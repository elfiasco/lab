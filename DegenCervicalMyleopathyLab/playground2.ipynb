{
 "cells": [
  {
   "cell_type": "code",
   "execution_count": 1,
   "metadata": {},
   "outputs": [],
   "source": [
    "#imports and setup\n",
    "import requests\n",
    "import pandas as pd\n",
    "import numpy as np\n",
    "import json\n",
    "import matplotlib.pyplot as plt\n",
    "from mpl_toolkits import mplot3d\n",
    "from datetime import datetime, timedelta\n",
    "from functions import *\n",
    "from process_tests import *\n",
    "import os\n",
    "import json\n",
    "import subprocess\n",
    "import time\n",
    "from sklearn.linear_model import LinearRegression\n",
    "from statsmodels.graphics.tsaplots import plot_acf\n",
    "\n",
    "\n",
    "test_database_token = 'FF0D4AB80BDB63716462F02BB9291897'\n",
    "pilot_database_token = 'BA2BB285FFCF240F0144FB02710BF64F'\n",
    "token=pilot_database_token\n"
   ]
  },
  {
   "cell_type": "code",
   "execution_count": 9,
   "metadata": {},
   "outputs": [],
   "source": [
    "with open('paths_n_fun.txt') as f:\n",
    "    paths = eval(f.read())\n",
    "    f.close()"
   ]
  },
  {
   "cell_type": "code",
   "execution_count": 10,
   "metadata": {},
   "outputs": [
    {
     "data": {
      "text/plain": [
       "{'json_data_path': 'C:/Users/benst/OneDrive/Desktop/Spring2023/Lab/DegenCervicalMyleopathyLab/temp.json',\n",
       " 'Rscriptpath': '\"C:/Program Files/R/R-4.2.3/bin/Rscript\"',\n",
       " 'my_code_path': 'C:/Users/benst/OneDrive/Desktop/Spring2023/Lab/DegenCervicalMyleopathyLab/my_code.R',\n",
       " 'two_lap_adj': \"'C:/Users/benst/OneDrive/Desktop/Spring2023/Lab/Code files/two-lap-adj/ComfortableGaitOutcomes.m'\",\n",
       " 'matlab_path': '\"C:/Program Files/MATLAB/R2022b/bin/matlab.exe\"'}"
      ]
     },
     "execution_count": 10,
     "metadata": {},
     "output_type": "execute_result"
    }
   ],
   "source": [
    "eval(paths)"
   ]
  },
  {
   "cell_type": "code",
   "execution_count": 2,
   "metadata": {},
   "outputs": [
    {
     "data": {
      "text/plain": [
       "dict_keys(['record_id', 'redcap_repeat_instrument', 'redcap_repeat_instance', 'dom_place', 'dom_remove', 'nondom_place', 'nondom_remove', 'uuid_3', 'startdate_3', 'enddate_3', 'scheduledate_3', 'status_3', 'supplementaldata_3', 'serializedresult_3', 'hole_peg_task_complete'])"
      ]
     },
     "execution_count": 2,
     "metadata": {},
     "output_type": "execute_result"
    }
   ],
   "source": [
    "(allOfOneTypeOfTest('peg',token))[4].keys()\n"
   ]
  },
  {
   "cell_type": "code",
   "execution_count": 3,
   "metadata": {},
   "outputs": [
    {
     "data": {
      "text/html": [
       "<div>\n",
       "<style scoped>\n",
       "    .dataframe tbody tr th:only-of-type {\n",
       "        vertical-align: middle;\n",
       "    }\n",
       "\n",
       "    .dataframe tbody tr th {\n",
       "        vertical-align: top;\n",
       "    }\n",
       "\n",
       "    .dataframe thead th {\n",
       "        text-align: right;\n",
       "    }\n",
       "</style>\n",
       "<table border=\"1\" class=\"dataframe\">\n",
       "  <thead>\n",
       "    <tr style=\"text-align: right;\">\n",
       "      <th></th>\n",
       "      <th>record_id</th>\n",
       "      <th>redcap_repeat_instance</th>\n",
       "      <th>test_time</th>\n",
       "      <th>dom_place_failures</th>\n",
       "      <th>dom_place_time_deviation</th>\n",
       "      <th>dom_remove_failures</th>\n",
       "      <th>dom_remove_time_deviation</th>\n",
       "      <th>nondom_place_failures</th>\n",
       "      <th>nondom_place_time_deviation</th>\n",
       "      <th>nondom_remove_failures</th>\n",
       "      <th>nondom_remove_time_deviation</th>\n",
       "      <th>average_failures</th>\n",
       "      <th>average_time_deviations</th>\n",
       "      <th>dom_preference_failures</th>\n",
       "      <th>dom_preference_time_deviation</th>\n",
       "    </tr>\n",
       "  </thead>\n",
       "  <tbody>\n",
       "    <tr>\n",
       "      <th>0</th>\n",
       "      <td>2</td>\n",
       "      <td>1</td>\n",
       "      <td>2023-05-17 15:22:10</td>\n",
       "      <td>6</td>\n",
       "      <td>1.869853</td>\n",
       "      <td>5</td>\n",
       "      <td>0.893922</td>\n",
       "      <td>5</td>\n",
       "      <td>7.990012</td>\n",
       "      <td>6</td>\n",
       "      <td>1.655765</td>\n",
       "      <td>5.50</td>\n",
       "      <td>3.102388</td>\n",
       "      <td>0.0</td>\n",
       "      <td>-3.441001</td>\n",
       "    </tr>\n",
       "    <tr>\n",
       "      <th>1</th>\n",
       "      <td>MyCap001</td>\n",
       "      <td>1</td>\n",
       "      <td>2023-06-11 13:47:47</td>\n",
       "      <td>12</td>\n",
       "      <td>1.870548</td>\n",
       "      <td>22</td>\n",
       "      <td>3.886389</td>\n",
       "      <td>5</td>\n",
       "      <td>1.203612</td>\n",
       "      <td>14</td>\n",
       "      <td>2.682098</td>\n",
       "      <td>13.25</td>\n",
       "      <td>2.410662</td>\n",
       "      <td>7.5</td>\n",
       "      <td>0.935613</td>\n",
       "    </tr>\n",
       "  </tbody>\n",
       "</table>\n",
       "</div>"
      ],
      "text/plain": [
       "  record_id  redcap_repeat_instance           test_time  dom_place_failures  \\\n",
       "0         2                       1 2023-05-17 15:22:10                   6   \n",
       "1  MyCap001                       1 2023-06-11 13:47:47                  12   \n",
       "\n",
       "   dom_place_time_deviation  dom_remove_failures  dom_remove_time_deviation  \\\n",
       "0                  1.869853                    5                   0.893922   \n",
       "1                  1.870548                   22                   3.886389   \n",
       "\n",
       "   nondom_place_failures  nondom_place_time_deviation  nondom_remove_failures  \\\n",
       "0                      5                     7.990012                       6   \n",
       "1                      5                     1.203612                      14   \n",
       "\n",
       "   nondom_remove_time_deviation  average_failures  average_time_deviations  \\\n",
       "0                      1.655765              5.50                 3.102388   \n",
       "1                      2.682098             13.25                 2.410662   \n",
       "\n",
       "   dom_preference_failures  dom_preference_time_deviation  \n",
       "0                      0.0                      -3.441001  \n",
       "1                      7.5                       0.935613  "
      ]
     },
     "execution_count": 3,
     "metadata": {},
     "output_type": "execute_result"
    }
   ],
   "source": [
    "process_peg(allOfOneTypeOfTest('peg',token)[0:2])"
   ]
  }
 ],
 "metadata": {
  "kernelspec": {
   "display_name": "base",
   "language": "python",
   "name": "python3"
  },
  "language_info": {
   "codemirror_mode": {
    "name": "ipython",
    "version": 3
   },
   "file_extension": ".py",
   "mimetype": "text/x-python",
   "name": "python",
   "nbconvert_exporter": "python",
   "pygments_lexer": "ipython3",
   "version": "3.9.7"
  },
  "orig_nbformat": 4
 },
 "nbformat": 4,
 "nbformat_minor": 2
}
